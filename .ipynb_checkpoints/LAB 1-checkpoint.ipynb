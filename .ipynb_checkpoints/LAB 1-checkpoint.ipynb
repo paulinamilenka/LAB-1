{
 "cells": [
  {
   "cell_type": "markdown",
   "metadata": {},
   "source": [
    "# Microestructuras y sistemas de Trading\n",
    "## Laboratorio 1"
   ]
  },
  {
   "cell_type": "markdown",
   "metadata": {},
   "source": [
    "## Equipo C\n",
    "### Participantes:\n",
    ">Paulina Milenka Glez Manrique, Andres García Ruvalcaba, Mariana López Correa,Juan López Pelayo."
   ]
  },
  {
   "cell_type": "code",
   "execution_count": 17,
   "metadata": {
    "collapsed": true
   },
   "outputs": [],
   "source": [
    "import quandl \n",
    "import pandas as pd"
   ]
  },
  {
   "cell_type": "code",
   "execution_count": 18,
   "metadata": {
    "collapsed": true
   },
   "outputs": [],
   "source": [
    "quandl.ApiConfig.api_key = \"6ARMqMT_1jbzJ71XyRCx\""
   ]
  },
  {
   "cell_type": "code",
   "execution_count": 26,
   "metadata": {},
   "outputs": [
    {
     "data": {
      "text/html": [
       "<div>\n",
       "<style>\n",
       "    .dataframe thead tr:only-child th {\n",
       "        text-align: right;\n",
       "    }\n",
       "\n",
       "    .dataframe thead th {\n",
       "        text-align: left;\n",
       "    }\n",
       "\n",
       "    .dataframe tbody tr th {\n",
       "        vertical-align: top;\n",
       "    }\n",
       "</style>\n",
       "<table border=\"1\" class=\"dataframe\">\n",
       "  <thead>\n",
       "    <tr style=\"text-align: right;\">\n",
       "      <th></th>\n",
       "      <th>Nombre</th>\n",
       "      <th>Clase de activo</th>\n",
       "      <th>Peso (%)</th>\n",
       "      <th>Precio</th>\n",
       "      <th>Acciones</th>\n",
       "      <th>Valor de mercado</th>\n",
       "      <th>Valor nominal</th>\n",
       "      <th>Sector</th>\n",
       "      <th>SEDOL</th>\n",
       "      <th>ISIN</th>\n",
       "      <th>Bolsa de valores</th>\n",
       "    </tr>\n",
       "    <tr>\n",
       "      <th>Ticker</th>\n",
       "      <th></th>\n",
       "      <th></th>\n",
       "      <th></th>\n",
       "      <th></th>\n",
       "      <th></th>\n",
       "      <th></th>\n",
       "      <th></th>\n",
       "      <th></th>\n",
       "      <th></th>\n",
       "      <th></th>\n",
       "      <th></th>\n",
       "    </tr>\n",
       "  </thead>\n",
       "  <tbody>\n",
       "    <tr>\n",
       "      <th>AAPL</th>\n",
       "      <td>APPLE INC</td>\n",
       "      <td>Equity</td>\n",
       "      <td>6.70</td>\n",
       "      <td>136.99</td>\n",
       "      <td>7,770,569.00</td>\n",
       "      <td>1,064,490,247.31</td>\n",
       "      <td>1,064,490,247.31</td>\n",
       "      <td>Tecnología de la Información</td>\n",
       "      <td>2046251</td>\n",
       "      <td>US0378331005</td>\n",
       "      <td>NASDAQ</td>\n",
       "    </tr>\n",
       "    <tr>\n",
       "      <th>MSFT</th>\n",
       "      <td>MICROSOFT CORP</td>\n",
       "      <td>Equity</td>\n",
       "      <td>4.56</td>\n",
       "      <td>63.98</td>\n",
       "      <td>11,330,713.00</td>\n",
       "      <td>724,939,017.74</td>\n",
       "      <td>724,939,017.74</td>\n",
       "      <td>Tecnología de la Información</td>\n",
       "      <td>2588173</td>\n",
       "      <td>US5949181045</td>\n",
       "      <td>NASDAQ</td>\n",
       "    </tr>\n",
       "    <tr>\n",
       "      <th>AMZN</th>\n",
       "      <td>AMAZON COM INC</td>\n",
       "      <td>Equity</td>\n",
       "      <td>3.06</td>\n",
       "      <td>845.04</td>\n",
       "      <td>574,727.00</td>\n",
       "      <td>485,667,304.08</td>\n",
       "      <td>485,667,304.08</td>\n",
       "      <td>Consumo discrecional</td>\n",
       "      <td>2000019</td>\n",
       "      <td>US0231351067</td>\n",
       "      <td>NASDAQ</td>\n",
       "    </tr>\n",
       "    <tr>\n",
       "      <th>FB</th>\n",
       "      <td>FACEBOOK CLASS A INC</td>\n",
       "      <td>Equity</td>\n",
       "      <td>2.91</td>\n",
       "      <td>135.54</td>\n",
       "      <td>3,411,192.00</td>\n",
       "      <td>462,352,963.68</td>\n",
       "      <td>462,352,963.68</td>\n",
       "      <td>Tecnología de la Información</td>\n",
       "      <td>B7TL820</td>\n",
       "      <td>US30303M1027</td>\n",
       "      <td>NASDAQ</td>\n",
       "    </tr>\n",
       "    <tr>\n",
       "      <th>GOOGL</th>\n",
       "      <td>ALPHABET INC CLASS A</td>\n",
       "      <td>Equity</td>\n",
       "      <td>2.29</td>\n",
       "      <td>844.93</td>\n",
       "      <td>431,476.00</td>\n",
       "      <td>364,567,016.68</td>\n",
       "      <td>364,567,016.68</td>\n",
       "      <td>Tecnología de la Información</td>\n",
       "      <td>BYVY8G0</td>\n",
       "      <td>US02079K3059</td>\n",
       "      <td>NASDAQ</td>\n",
       "    </tr>\n",
       "  </tbody>\n",
       "</table>\n",
       "</div>"
      ],
      "text/plain": [
       "                      Nombre Clase de activo  Peso (%)  Precio       Acciones  \\\n",
       "Ticker                                                                          \n",
       "AAPL               APPLE INC          Equity      6.70  136.99   7,770,569.00   \n",
       "MSFT          MICROSOFT CORP          Equity      4.56   63.98  11,330,713.00   \n",
       "AMZN          AMAZON COM INC          Equity      3.06  845.04     574,727.00   \n",
       "FB      FACEBOOK CLASS A INC          Equity      2.91  135.54   3,411,192.00   \n",
       "GOOGL   ALPHABET INC CLASS A          Equity      2.29  844.93     431,476.00   \n",
       "\n",
       "        Valor de mercado     Valor nominal                        Sector  \\\n",
       "Ticker                                                                     \n",
       "AAPL    1,064,490,247.31  1,064,490,247.31  Tecnología de la Información   \n",
       "MSFT      724,939,017.74    724,939,017.74  Tecnología de la Información   \n",
       "AMZN      485,667,304.08    485,667,304.08          Consumo discrecional   \n",
       "FB        462,352,963.68    462,352,963.68  Tecnología de la Información   \n",
       "GOOGL     364,567,016.68    364,567,016.68  Tecnología de la Información   \n",
       "\n",
       "          SEDOL          ISIN Bolsa de valores  \n",
       "Ticker                                          \n",
       "AAPL    2046251  US0378331005           NASDAQ  \n",
       "MSFT    2588173  US5949181045           NASDAQ  \n",
       "AMZN    2000019  US0231351067           NASDAQ  \n",
       "FB      B7TL820  US30303M1027           NASDAQ  \n",
       "GOOGL   BYVY8G0  US02079K3059           NASDAQ  "
      ]
     },
     "execution_count": 26,
     "metadata": {},
     "output_type": "execute_result"
    }
   ],
   "source": [
    "excel_etf = 'IVW.csv'\n",
    "data = pd.read_csv(excel_etf, header=0, sep=',', index_col=0, parse_dates=False, skip_blank_lines=True, skiprows=10)\n",
    "data.head()"
   ]
  },
  {
   "cell_type": "code",
   "execution_count": null,
   "metadata": {
    "collapsed": true
   },
   "outputs": [],
   "source": []
  }
 ],
 "metadata": {
  "kernelspec": {
   "display_name": "Python 3",
   "language": "python",
   "name": "python3"
  },
  "language_info": {
   "codemirror_mode": {
    "name": "ipython",
    "version": 3
   },
   "file_extension": ".py",
   "mimetype": "text/x-python",
   "name": "python",
   "nbconvert_exporter": "python",
   "pygments_lexer": "ipython3",
   "version": "3.6.3"
  }
 },
 "nbformat": 4,
 "nbformat_minor": 2
}
