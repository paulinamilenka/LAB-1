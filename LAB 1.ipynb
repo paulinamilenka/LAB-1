{
 "cells": [
  {
   "cell_type": "markdown",
   "metadata": {},
   "source": [
    "# Microestructuras y Sistemas de Trading\n",
    "## Laboratorio 1\n",
    "### Equipo C\n",
    "\n",
    "<img style=\"float: right; margin: -100px 80px 30px 0px;\" src=\"https://upload.wikimedia.org/wikipedia/commons/d/db/Logo_ITESO_normal.jpg\" width=\"200px\" height=\"200px\" />\n",
    "\n",
    "#### <font color=\"blue\">**INTEGRANTES:**</font>\n",
    "\n",
    "* <font color=\"black\">**INTEGRANTE 1 :**</font> Andres García Ruvalcaba\n",
    "* <font color=\"black\">**INTEGRANTE 2 :**</font> Mariana López Correa,\n",
    "* <font color=\"black\">**INTEGRANTE 3 :**</font> Paulina Milenka Glez Manrique \n",
    "* <font color=\"black\">**INTEGRANTE 4 :**</font> Juan López Pelayo\n",
    "\n",
    "<font color=\"red\">**Repositorio :**</font> https://github.com/paulinamilenka/LAB-1"
   ]
  },
  {
   "cell_type": "markdown",
   "metadata": {},
   "source": [
    "##  <span style=\"color:blue\">**1.1 Objetivos**</span>"
   ]
  },
  {
   "cell_type": "markdown",
   "metadata": {},
   "source": [
    "#### 1.2.1 Objetivo general.\n",
    "\n",
    "> Replicar los ETFs conocidos como ishares para el mercado de renta varialbe de USA que la empresa BlackRock ofrece para analizar la construcción de un portafolio de inversión y un criterio de rebalanceo. "
   ]
  },
  {
   "cell_type": "markdown",
   "metadata": {},
   "source": [
    "#### 1.2.2 Objetivo específico.\n",
    "\n",
    "> * Comparar los resultados de haber rebalanceado periódicamente el portafolio o no haberlo hecho y continuar todo un año con     las mismas posiciones del ETF IVW.\n",
    "> * Realizar el proceso para que pueda replicarse para cualquier ETF del mercado. "
   ]
  },
  {
   "cell_type": "markdown",
   "metadata": {},
   "source": [
    "## Introducción \n",
    "\n",
    "### <font color = \"green\" > **¿Qué es un ETF?**:\n",
    "    \n",
    "> Un ETF (Exchange Trade Fund)  puede definirse como un fondo que replica un índice, es decir, es un fondo que cotiza en bolsa y   que está compuesto por un grupo de activos diversificados, pues contiene las acciones de todas las empresas de un índice."
   ]
  },
  {
   "cell_type": "markdown",
   "metadata": {},
   "source": [
    "## Desarrollo"
   ]
  },
  {
   "cell_type": "code",
   "execution_count": 14,
   "metadata": {},
   "outputs": [],
   "source": [
    "import quandl \n",
    "import pandas as pd\n",
    "import os\n",
    "import calendar\n",
    "import numpy as np"
   ]
  },
  {
   "cell_type": "code",
   "execution_count": 15,
   "metadata": {},
   "outputs": [],
   "source": [
    "quandl.ApiConfig.api_key = \"6ARMqMT_1jbzJ71XyRCx\""
   ]
  },
  {
   "cell_type": "code",
   "execution_count": 16,
   "metadata": {},
   "outputs": [],
   "source": [
    "path=os.getcwd()\n",
    "files=os.listdir(path)\n",
    "etf_files = [f for f in files if f[-3:]=='csv']"
   ]
  },
  {
   "cell_type": "code",
   "execution_count": 17,
   "metadata": {},
   "outputs": [],
   "source": [
    "df=[]\n",
    "for f in etf_files: \n",
    "    data=pd.read_csv(f, header=0, sep=',', index_col=0, parse_dates=False, skip_blank_lines=True, skiprows=10)\n",
    "\n",
    "    df.append(data)"
   ]
  },
  {
   "cell_type": "code",
   "execution_count": 18,
   "metadata": {},
   "outputs": [],
   "source": [
    "df_nassets = []\n",
    "for f in etf_files:\n",
    "    data=pd.read_csv(f,nrows=4)\n",
    "    data=data.iloc[3,0]\n",
    "    df_nassets.append(data)"
   ]
  },
  {
   "cell_type": "code",
   "execution_count": 19,
   "metadata": {},
   "outputs": [],
   "source": [
    "nassets = []\n",
    "for i in range(len(df_nassets)):\n",
    "    a=df_nassets[i]\n",
    "    a=a.replace('.00','').replace(',','')\n",
    "    a=int(a)\n",
    "    nassets.append(a)"
   ]
  },
  {
   "cell_type": "code",
   "execution_count": 20,
   "metadata": {},
   "outputs": [],
   "source": [
    "df_fechas=[]\n",
    "for f in etf_files:\n",
    "    data=pd.read_csv(f,nrows=4)\n",
    "    data=data.iloc[1,0]\n",
    "    df_fechas.append(data)"
   ]
  },
  {
   "cell_type": "code",
   "execution_count": 21,
   "metadata": {},
   "outputs": [],
   "source": [
    "dic = {'abr':'04','ago':'08','dic':'12','feb':'02','ene':'01','jun':'06','jul':'07','mar':'03','may':'05','nov':'11','oct':'10','sep':'09'}\n",
    "lenfechas=len(df_fechas)\n",
    "for i in range(lenfechas):\n",
    "    df_fechas[i]=df_fechas[i].replace(df_fechas[i][3:6],dic.get(df_fechas[i][3:6]))"
   ]
  },
  {
   "cell_type": "code",
   "execution_count": 22,
   "metadata": {},
   "outputs": [],
   "source": [
    "l=len(df_fechas)\n",
    "for i in range(l):\n",
    "    df_fechas[i]=df_fechas[i][-4:]+df_fechas[i][2:6]+df_fechas[i][0:2]\n"
   ]
  },
  {
   "cell_type": "code",
   "execution_count": 23,
   "metadata": {},
   "outputs": [],
   "source": [
    "df_prices = []\n",
    "for i in range(len(df)-1):\n",
    "    arch= df[i]\n",
    "    tickers = arch.index.get_values()\n",
    "    tickers = tickers.tolist()\n",
    "    prices = quandl.get_table('WIKI/PRICES',ticker = tickers,  qopts = { 'columns': ['ticker', 'date', 'adj_close'] }, \n",
    "                       date = { 'gte': df_fechas[i], 'lte': df_fechas[-1] }, \n",
    "                       paginate=True)\n",
    "    df_prices.append(prices)"
   ]
  },
  {
   "cell_type": "code",
   "execution_count": 24,
   "metadata": {},
   "outputs": [],
   "source": [
    "p_prices=df_prices[0].pivot('ticker','date','adj_close')\n",
    "#p_prices=p_prices.fillna(p_prices.mean(axis=1))\n",
    "p_prices=p_prices.fillna(method='ffill',axis=1)"
   ]
  },
  {
   "cell_type": "code",
   "execution_count": 26,
   "metadata": {},
   "outputs": [],
   "source": [
    "q_acc=[]\n",
    "l=len(df)\n",
    "for i in range(l):\n",
    "    data=df[i]['Acciones'].dropna()\n",
    "    data=data.sort_index(ascending=True)\n",
    "    q_acc.append(data)"
   ]
  },
  {
   "cell_type": "code",
   "execution_count": 27,
   "metadata": {},
   "outputs": [],
   "source": [
    "acciones=[] #lista con las acciones cinvertida a DataFrame\n",
    "l=len(q_acc)\n",
    "for i in range(l):\n",
    "    data=q_acc[i].to_frame()\n",
    "    acciones.append(data)\n"
   ]
  },
  {
   "cell_type": "code",
   "execution_count": 28,
   "metadata": {},
   "outputs": [],
   "source": [
    "l=len(acciones)\n",
    "acc_clean = [] #Lista con las acciones limpias \n",
    "for i in range(l):\n",
    "    a=acciones[i]\n",
    "    a=a['Acciones'].str.replace('.00','').str.replace(',','')\n",
    "    acc_clean.append(a)\n",
    "acc_clean[0]=acc_clean[0].astype(int)\n",
    "acc_clean[1]=acc_clean[1].astype(int)\n",
    "acc_clean[2]=acc_clean[2].astype(int)\n",
    "acc_clean[3]=acc_clean[3].astype(int)\n",
    "acc_clean[4]=acc_clean[4].astype(int)\n",
    "acc_clean[5]=acc_clean[5].astype(int)\n",
    "acc_clean[6]=acc_clean[6].astype(int)\n",
    "acc_clean[7]=acc_clean[7].astype(int)\n",
    "acc_clean[8]=acc_clean[8].astype(int)\n",
    "acc_clean[9]=acc_clean[9].astype(int)\n",
    "acc_clean[10]=acc_clean[10].astype(int)\n",
    "acc_clean[11]=acc_clean[11].astype(int)\n",
    "\n",
    "\n"
   ]
  },
  {
   "cell_type": "code",
   "execution_count": 31,
   "metadata": {},
   "outputs": [],
   "source": [
    "all_data = p_prices.join(acc_clean[0])\n"
   ]
  },
  {
   "cell_type": "code",
   "execution_count": 32,
   "metadata": {},
   "outputs": [],
   "source": [
    "fechas=all_data.columns.get_values()\n",
    "fechas=fechas[0:-1]"
   ]
  },
  {
   "cell_type": "code",
   "execution_count": 44,
   "metadata": {},
   "outputs": [],
   "source": [
    "fechas2=pd.to_datetime(fechas)"
   ]
  },
  {
   "cell_type": "code",
   "execution_count": 33,
   "metadata": {},
   "outputs": [],
   "source": [
    "precios=all_data.iloc[:,0:-1].transpose()\n",
    "cantidades=all_data['Acciones']"
   ]
  },
  {
   "cell_type": "code",
   "execution_count": 34,
   "metadata": {},
   "outputs": [],
   "source": [
    "totales=np.dot(precios,cantidades)\n",
    "totales=pd.DataFrame(totales,index=fechas)"
   ]
  },
  {
   "cell_type": "code",
   "execution_count": 36,
   "metadata": {},
   "outputs": [],
   "source": [
    "navs_diarios1=totales/nassets[0]"
   ]
  },
  {
   "cell_type": "code",
   "execution_count": 37,
   "metadata": {},
   "outputs": [],
   "source": [
    "rendimiento_final1=navs_diarios1.iloc[-1]/navs_diarios1.iloc[0]-1"
   ]
  },
  {
   "cell_type": "code",
   "execution_count": 38,
   "metadata": {},
   "outputs": [],
   "source": [
    "navs_diarios1=pd.DataFrame(navs_diarios1)"
   ]
  },
  {
   "cell_type": "code",
   "execution_count": 39,
   "metadata": {},
   "outputs": [],
   "source": [
    "rends_diarios1=((navs_diarios1-navs_diarios1.shift(1))/navs_diarios1.shift(1)).iloc[1:]"
   ]
  },
  {
   "cell_type": "code",
   "execution_count": 40,
   "metadata": {},
   "outputs": [],
   "source": [
    "desv_diaria1=np.std(rends_diarios1)"
   ]
  },
  {
   "cell_type": "code",
   "execution_count": 41,
   "metadata": {},
   "outputs": [],
   "source": [
    "rends=[]\n",
    "for i in range(len(df_fechas)-1):\n",
    "    rend=rend1=navs_diarios1.transpose()[df_fechas[i+1]]/navs_diarios1.transpose()[df_fechas[i]]-1\n",
    "    rends.append(rend)\n",
    "rend1=pd.DataFrame(rends,index=df_fechas[1:])\n",
    "\n"
   ]
  },
  {
   "cell_type": "code",
   "execution_count": 42,
   "metadata": {},
   "outputs": [],
   "source": [
    "sharpe1=(rend1-.02)/desv_diaria1"
   ]
  },
  {
   "cell_type": "markdown",
   "metadata": {},
   "source": [
    "# Escenario 2 "
   ]
  },
  {
   "cell_type": "code",
   "execution_count": 45,
   "metadata": {},
   "outputs": [],
   "source": [
    "p_prices2=df_prices[1].pivot('ticker','date','adj_close') #Genera la tabla pivote \n",
    "p_prices2=p_prices2.fillna(method='ffill',axis=1) #Se rellenan los NaN con el dato anterior disponible"
   ]
  },
  {
   "cell_type": "code",
   "execution_count": 48,
   "metadata": {},
   "outputs": [],
   "source": [
    "all_data2=p_prices2.join(acc_clean[1])"
   ]
  },
  {
   "cell_type": "code",
   "execution_count": 49,
   "metadata": {},
   "outputs": [],
   "source": [
    "precios2=all_data2.iloc[:,0:-1].transpose()\n",
    "cantidades2=all_data2['Acciones']\n"
   ]
  },
  {
   "cell_type": "code",
   "execution_count": 50,
   "metadata": {},
   "outputs": [],
   "source": [
    "totales2=np.dot(precios2,cantidades2)\n",
    "totales2=pd.DataFrame(totales2, index= fechas2[(fechas2 >= df_fechas[1]) & (fechas2 <= df_fechas[12])] )"
   ]
  },
  {
   "cell_type": "code",
   "execution_count": 51,
   "metadata": {},
   "outputs": [],
   "source": [
    "navs_diarios2=totales2/nassets[1]"
   ]
  },
  {
   "cell_type": "code",
   "execution_count": 52,
   "metadata": {},
   "outputs": [],
   "source": [
    "rendimiento_final2=navs_diarios2.iloc[-1]/navs_diarios2.iloc[0]-1\n",
    "navs_diarios2=pd.DataFrame(navs_diarios2)"
   ]
  },
  {
   "cell_type": "code",
   "execution_count": 53,
   "metadata": {},
   "outputs": [],
   "source": [
    "rends2=[]\n",
    "for i in range(len(df_fechas)-2):\n",
    "    rend2=rendd=navs_diarios2.transpose()[df_fechas[i+2]]/navs_diarios2.transpose()[df_fechas[i+1]]-1\n",
    "    rends2.append(rend2)\n",
    "rends2=pd.DataFrame(rends2,index = df_fechas[2:])\n",
    "\n"
   ]
  },
  {
   "cell_type": "code",
   "execution_count": 54,
   "metadata": {},
   "outputs": [],
   "source": [
    "a= rend1.loc[[(df_fechas[1])]]\n",
    "rend2=a.append(rends2)"
   ]
  },
  {
   "cell_type": "code",
   "execution_count": 55,
   "metadata": {},
   "outputs": [],
   "source": [
    "navs_diariosb=pd.DataFrame(navs_diarios1, index= fechas2[(fechas2 < df_fechas[1])] )\n",
    "navs_diarios2=navs_diariosb.append(navs_diarios2)"
   ]
  },
  {
   "cell_type": "code",
   "execution_count": 56,
   "metadata": {},
   "outputs": [],
   "source": [
    "rends_diarios2=((navs_diarios2-navs_diarios2.shift(1))/navs_diarios2.shift(1)).iloc[1:]\n",
    "desv_diaria2=np.std(rends_diarios2)"
   ]
  },
  {
   "cell_type": "code",
   "execution_count": 57,
   "metadata": {},
   "outputs": [],
   "source": [
    "sharpe2=(rend2-.02)/desv_diaria2"
   ]
  },
  {
   "cell_type": "markdown",
   "metadata": {},
   "source": [
    "# Escenario 3 "
   ]
  },
  {
   "cell_type": "code",
   "execution_count": 58,
   "metadata": {},
   "outputs": [],
   "source": [
    "p_prices3=df_prices[2].pivot('ticker','date','adj_close') #Genera la tabla pivote \n",
    "p_prices3=p_prices3.fillna(method='ffill',axis=1) #Se rellenan los NaN con el dato anterior disponible"
   ]
  },
  {
   "cell_type": "code",
   "execution_count": 59,
   "metadata": {},
   "outputs": [],
   "source": [
    "all_data3=p_prices3.join(acc_clean[2])"
   ]
  },
  {
   "cell_type": "code",
   "execution_count": 60,
   "metadata": {},
   "outputs": [],
   "source": [
    "precios3=all_data3.iloc[:,0:-1].transpose()\n",
    "cantidades3=all_data3['Acciones']"
   ]
  },
  {
   "cell_type": "code",
   "execution_count": 61,
   "metadata": {},
   "outputs": [],
   "source": [
    "totales3=np.dot(precios3,cantidades3)\n",
    "totales3=pd.DataFrame(totales3, index= fechas2[(fechas2 >= df_fechas[2]) & (fechas2 <= df_fechas[12])] )"
   ]
  },
  {
   "cell_type": "code",
   "execution_count": 62,
   "metadata": {},
   "outputs": [],
   "source": [
    "navs_diarios3=totales3/nassets[2]"
   ]
  },
  {
   "cell_type": "code",
   "execution_count": 63,
   "metadata": {},
   "outputs": [],
   "source": [
    "rendimiento_final3=navs_diarios3.iloc[-1]/navs_diarios3.iloc[0]-1\n",
    "navs_diarios3=pd.DataFrame(navs_diarios3)\n",
    "rends_diarios3=((navs_diarios3-navs_diarios3.shift(1))/navs_diarios3.shift(1)).iloc[1:]\n",
    "desv_diaria3=np.std(rends_diarios3)"
   ]
  },
  {
   "cell_type": "code",
   "execution_count": 64,
   "metadata": {},
   "outputs": [],
   "source": [
    "rends3=[]\n",
    "for i in range(len(df_fechas)-3):\n",
    "    rend3=rendd=navs_diarios3.transpose()[df_fechas[i+3]]/navs_diarios3.transpose()[df_fechas[i+2]]-1\n",
    "    rends3.append(rend3)\n",
    "rends3=pd.DataFrame(rends3,index = df_fechas[3:])"
   ]
  },
  {
   "cell_type": "code",
   "execution_count": 65,
   "metadata": {},
   "outputs": [],
   "source": [
    "b= rend2.loc[[(df_fechas[1] ),(df_fechas[2])]]\n",
    "rend3=b.append(rends3)"
   ]
  },
  {
   "cell_type": "code",
   "execution_count": 66,
   "metadata": {},
   "outputs": [],
   "source": [
    "navs_diariosb=pd.DataFrame(navs_diarios2, index= fechas2[(fechas2 < df_fechas[2])] )\n",
    "navs_diarios3=navs_diariosb.append(navs_diarios3)\n",
    "rends_diarios3=((navs_diarios3-navs_diarios3.shift(1))/navs_diarios3.shift(1)).iloc[1:]\n",
    "desv_diaria3=np.std(rends_diarios3)"
   ]
  },
  {
   "cell_type": "code",
   "execution_count": 67,
   "metadata": {},
   "outputs": [],
   "source": [
    "sharpe3=(rend3-.02)/desv_diaria3"
   ]
  },
  {
   "cell_type": "markdown",
   "metadata": {},
   "source": [
    "# Escenario 4 "
   ]
  },
  {
   "cell_type": "code",
   "execution_count": 68,
   "metadata": {},
   "outputs": [],
   "source": [
    "p_prices4=df_prices[3].pivot('ticker','date','adj_close') #Genera la tabla pivote \n",
    "p_prices4=p_prices4.fillna(method='ffill',axis=1) #Se rellenan los NaN con el dato anterior disponible"
   ]
  },
  {
   "cell_type": "code",
   "execution_count": 69,
   "metadata": {},
   "outputs": [],
   "source": [
    "all_data4=p_prices4.join(acc_clean[3])"
   ]
  },
  {
   "cell_type": "code",
   "execution_count": 70,
   "metadata": {},
   "outputs": [],
   "source": [
    "precios4=all_data4.iloc[:,0:-1].transpose()\n",
    "cantidades4=all_data4['Acciones']"
   ]
  },
  {
   "cell_type": "code",
   "execution_count": 71,
   "metadata": {},
   "outputs": [],
   "source": [
    "totales4=np.dot(precios4,cantidades4)\n",
    "totales4=pd.DataFrame(totales4, index= fechas2[(fechas2 >= df_fechas[3]) & (fechas2 <= df_fechas[12])] )"
   ]
  },
  {
   "cell_type": "code",
   "execution_count": 72,
   "metadata": {},
   "outputs": [],
   "source": [
    "navs_diarios4=totales4/nassets[3]"
   ]
  },
  {
   "cell_type": "code",
   "execution_count": 73,
   "metadata": {},
   "outputs": [],
   "source": [
    "rendimiento_final4=navs_diarios4.iloc[-1]/navs_diarios4.iloc[0]-1\n",
    "navs_diarios4=pd.DataFrame(navs_diarios4)\n",
    "rends_diarios4=((navs_diarios4-navs_diarios4.shift(1))/navs_diarios4.shift(1)).iloc[1:]\n",
    "desv_diaria4=np.std(rends_diarios4)"
   ]
  },
  {
   "cell_type": "code",
   "execution_count": 74,
   "metadata": {},
   "outputs": [],
   "source": [
    "rends4=[]\n",
    "for i in range(len(df_fechas)-4):\n",
    "    rend4=rendd=navs_diarios4.transpose()[df_fechas[i+4]]/navs_diarios4.transpose()[df_fechas[i+3]]-1\n",
    "    rends4.append(rend4)\n",
    "rends4=pd.DataFrame(rends4,index = df_fechas[4:])"
   ]
  },
  {
   "cell_type": "code",
   "execution_count": 75,
   "metadata": {},
   "outputs": [],
   "source": [
    "c= rend3.loc[[(df_fechas[1] ),(df_fechas[2]),(df_fechas[3])]]\n",
    "rend4= c.append(rends4)"
   ]
  },
  {
   "cell_type": "code",
   "execution_count": 76,
   "metadata": {},
   "outputs": [],
   "source": [
    "navs_diariosb=pd.DataFrame(navs_diarios3, index= fechas2[(fechas2 < df_fechas[3])] )\n",
    "navs_diarios4=navs_diariosb.append(navs_diarios4)\n",
    "rends_diarios4=((navs_diarios4-navs_diarios4.shift(1))/navs_diarios4.shift(1)).iloc[1:]\n",
    "desv_diaria4=np.std(rends_diarios4)"
   ]
  },
  {
   "cell_type": "code",
   "execution_count": 77,
   "metadata": {},
   "outputs": [],
   "source": [
    "sharpe4=(rend4-.02)/desv_diaria4"
   ]
  },
  {
   "cell_type": "markdown",
   "metadata": {},
   "source": [
    "# Escenario 5 "
   ]
  },
  {
   "cell_type": "code",
   "execution_count": 78,
   "metadata": {},
   "outputs": [],
   "source": [
    "p_prices5=df_prices[4].pivot('ticker','date','adj_close') #Genera la tabla pivote \n",
    "p_prices5=p_prices5.fillna(method='ffill',axis=1) #Se rellenan los NaN con el dato anterior disponible"
   ]
  },
  {
   "cell_type": "code",
   "execution_count": 79,
   "metadata": {},
   "outputs": [],
   "source": [
    "all_data5=p_prices5.join(acc_clean[4])"
   ]
  },
  {
   "cell_type": "code",
   "execution_count": 80,
   "metadata": {},
   "outputs": [],
   "source": [
    "precios5=all_data5.iloc[:,0:-1].transpose()\n",
    "cantidades5=all_data5['Acciones']"
   ]
  },
  {
   "cell_type": "code",
   "execution_count": 81,
   "metadata": {},
   "outputs": [],
   "source": [
    "totales5=np.dot(precios5,cantidades5)\n",
    "totales5=pd.DataFrame(totales5, index= fechas2[(fechas2 >= df_fechas[4]) & (fechas2 <= df_fechas[12])] )"
   ]
  },
  {
   "cell_type": "code",
   "execution_count": 82,
   "metadata": {},
   "outputs": [],
   "source": [
    "navs_diarios5=totales5/nassets[4]"
   ]
  },
  {
   "cell_type": "code",
   "execution_count": 83,
   "metadata": {},
   "outputs": [],
   "source": [
    "rendimiento_final5=navs_diarios5.iloc[-1]/navs_diarios5.iloc[0]-1\n",
    "navs_diarios5=pd.DataFrame(navs_diarios5)\n",
    "rends_diarios5=((navs_diarios5-navs_diarios5.shift(1))/navs_diarios5.shift(1)).iloc[1:]\n",
    "desv_diaria5=np.std(rends_diarios5)"
   ]
  },
  {
   "cell_type": "code",
   "execution_count": 84,
   "metadata": {},
   "outputs": [],
   "source": [
    "rends5=[]\n",
    "for i in range(len(df_fechas)-5):\n",
    "    rend5=rendd=navs_diarios5.transpose()[df_fechas[i+5]]/navs_diarios5.transpose()[df_fechas[i+4]]-1\n",
    "    rends5.append(rend5)\n",
    "rends5=pd.DataFrame(rends5,index = df_fechas[5:])"
   ]
  },
  {
   "cell_type": "code",
   "execution_count": 85,
   "metadata": {},
   "outputs": [],
   "source": [
    "d= rend4.loc[[(df_fechas[1] ),(df_fechas[2]),(df_fechas[3]),(df_fechas[4])]]\n",
    "rend5= d.append(rends5)"
   ]
  },
  {
   "cell_type": "code",
   "execution_count": 86,
   "metadata": {},
   "outputs": [],
   "source": [
    "navs_diariosb=pd.DataFrame(navs_diarios4, index= fechas2[(fechas2 < df_fechas[4])] )\n",
    "navs_diarios5=navs_diariosb.append(navs_diarios5)\n",
    "rends_diarios5=((navs_diarios5-navs_diarios5.shift(1))/navs_diarios5.shift(1)).iloc[1:]\n",
    "desv_diaria5=np.std(rends_diarios5)"
   ]
  },
  {
   "cell_type": "code",
   "execution_count": 87,
   "metadata": {},
   "outputs": [],
   "source": [
    "sharpe5=(rend5-.02)/desv_diaria5"
   ]
  },
  {
   "cell_type": "markdown",
   "metadata": {},
   "source": [
    "# Escenario 6"
   ]
  },
  {
   "cell_type": "code",
   "execution_count": 88,
   "metadata": {},
   "outputs": [],
   "source": [
    "p_prices6=df_prices[5].pivot('ticker','date','adj_close') #Genera la tabla pivote \n",
    "#p_prices=p_prices.fillna(p_prices.mean(axis=1))\n",
    "p_prices6=p_prices6.fillna(method='ffill',axis=1) #Se rellenan los NaN con el dato anterior disponible"
   ]
  },
  {
   "cell_type": "code",
   "execution_count": 89,
   "metadata": {},
   "outputs": [],
   "source": [
    "all_data6=p_prices6.join(acc_clean[5])"
   ]
  },
  {
   "cell_type": "code",
   "execution_count": 90,
   "metadata": {},
   "outputs": [],
   "source": [
    "precios6=all_data6.iloc[:,0:-1].transpose()\n",
    "cantidades6=all_data6['Acciones']"
   ]
  },
  {
   "cell_type": "code",
   "execution_count": 91,
   "metadata": {},
   "outputs": [],
   "source": [
    "totales6=np.dot(precios6,cantidades6)\n",
    "totales6=pd.DataFrame(totales6, index= fechas2[(fechas2 >= df_fechas[5]) & (fechas2 <= df_fechas[12])] )"
   ]
  },
  {
   "cell_type": "code",
   "execution_count": 92,
   "metadata": {},
   "outputs": [],
   "source": [
    "navs_diarios6=totales6/nassets[5]"
   ]
  },
  {
   "cell_type": "code",
   "execution_count": 93,
   "metadata": {},
   "outputs": [],
   "source": [
    "rendimiento_final6=navs_diarios6.iloc[-1]/navs_diarios6.iloc[0]-1\n",
    "navs_diarios6=pd.DataFrame(navs_diarios6)\n",
    "rends_diarios6=((navs_diarios6-navs_diarios6.shift(1))/navs_diarios6.shift(1)).iloc[1:]\n",
    "desv_diaria6=np.std(rends_diarios6)"
   ]
  },
  {
   "cell_type": "code",
   "execution_count": 94,
   "metadata": {},
   "outputs": [],
   "source": [
    "rends6=[]\n",
    "for i in range(len(df_fechas)-6):\n",
    "    rend6=rendd=navs_diarios6.transpose()[df_fechas[i+6]]/navs_diarios6.transpose()[df_fechas[i+5]]-1\n",
    "    rends6.append(rend6)\n",
    "rends6=pd.DataFrame(rends6,index = df_fechas[6:])\n"
   ]
  },
  {
   "cell_type": "code",
   "execution_count": 95,
   "metadata": {},
   "outputs": [],
   "source": [
    "e= rend5.loc[[(df_fechas[1] ),(df_fechas[2]),(df_fechas[3]),(df_fechas[4]),(df_fechas[5])]]\n",
    "rend6= e.append(rends6)"
   ]
  },
  {
   "cell_type": "code",
   "execution_count": 96,
   "metadata": {},
   "outputs": [],
   "source": [
    "navs_diariosb=pd.DataFrame(navs_diarios5, index= fechas2[(fechas2 < df_fechas[5])] )\n",
    "navs_diarios6=navs_diariosb.append(navs_diarios6)\n",
    "rends_diarios6=((navs_diarios6-navs_diarios6.shift(1))/navs_diarios6.shift(1)).iloc[1:]\n",
    "desv_diaria6=np.std(rends_diarios6)"
   ]
  },
  {
   "cell_type": "code",
   "execution_count": 97,
   "metadata": {},
   "outputs": [],
   "source": [
    "sharpe6=(rend6-.02)/desv_diaria6"
   ]
  },
  {
   "cell_type": "markdown",
   "metadata": {},
   "source": [
    "# Escenario 7 "
   ]
  },
  {
   "cell_type": "code",
   "execution_count": 98,
   "metadata": {},
   "outputs": [],
   "source": [
    "p_prices7=df_prices[6].pivot('ticker','date','adj_close') #Genera la tabla pivote \n",
    "p_prices7=p_prices7.fillna(method='ffill',axis=1) #Se rellenan los NaN con el dato anterior disponible"
   ]
  },
  {
   "cell_type": "code",
   "execution_count": 99,
   "metadata": {},
   "outputs": [],
   "source": [
    "all_data7=p_prices7.join(acc_clean[6])"
   ]
  },
  {
   "cell_type": "code",
   "execution_count": 100,
   "metadata": {},
   "outputs": [],
   "source": [
    "precios7=all_data7.iloc[:,0:-1].transpose()\n",
    "cantidades7=all_data7['Acciones']"
   ]
  },
  {
   "cell_type": "code",
   "execution_count": 101,
   "metadata": {},
   "outputs": [],
   "source": [
    "totales7=np.dot(precios7,cantidades7)\n",
    "totales7=pd.DataFrame(totales7, index= fechas2[(fechas2 >= df_fechas[6]) & (fechas2 <= df_fechas[12])] )"
   ]
  },
  {
   "cell_type": "code",
   "execution_count": 102,
   "metadata": {},
   "outputs": [],
   "source": [
    "navs_diarios7=totales7/nassets[6]"
   ]
  },
  {
   "cell_type": "code",
   "execution_count": 103,
   "metadata": {},
   "outputs": [],
   "source": [
    "rendimiento_final7=navs_diarios7.iloc[-1]/navs_diarios7.iloc[0]-1\n",
    "navs_diarios7=pd.DataFrame(navs_diarios7)\n",
    "rends_diarios7=((navs_diarios7-navs_diarios7.shift(1))/navs_diarios7.shift(1)).iloc[1:]\n",
    "desv_diaria7=np.std(rends_diarios7)"
   ]
  },
  {
   "cell_type": "code",
   "execution_count": 104,
   "metadata": {},
   "outputs": [],
   "source": [
    "rends7=[]\n",
    "for i in range(len(df_fechas)-7):\n",
    "    rend7=rendd=navs_diarios7.transpose()[df_fechas[i+7]]/navs_diarios7.transpose()[df_fechas[i+6]]-1\n",
    "    rends7.append(rend7)\n",
    "rends7=pd.DataFrame(rends7,index = df_fechas[7:])"
   ]
  },
  {
   "cell_type": "code",
   "execution_count": 105,
   "metadata": {},
   "outputs": [],
   "source": [
    "f= rend6.loc[[(df_fechas[1] ),(df_fechas[2]),(df_fechas[3]),(df_fechas[4]),(df_fechas[5]),(df_fechas[6])]]\n",
    "rend7= f.append(rends7)"
   ]
  },
  {
   "cell_type": "code",
   "execution_count": 106,
   "metadata": {},
   "outputs": [],
   "source": [
    "navs_diariosb=pd.DataFrame(navs_diarios6, index= fechas2[(fechas2 < df_fechas[6])] )\n",
    "navs_diarios7=navs_diariosb.append(navs_diarios7)\n",
    "rends_diarios7=((navs_diarios7-navs_diarios7.shift(1))/navs_diarios7.shift(1)).iloc[1:]\n",
    "desv_diaria7=np.std(rends_diarios7)"
   ]
  },
  {
   "cell_type": "code",
   "execution_count": 107,
   "metadata": {},
   "outputs": [],
   "source": [
    "sharpe7=(rend7-.02)/desv_diaria7"
   ]
  },
  {
   "cell_type": "markdown",
   "metadata": {},
   "source": [
    "# Escenario 8 "
   ]
  },
  {
   "cell_type": "code",
   "execution_count": 108,
   "metadata": {},
   "outputs": [],
   "source": [
    "p_prices8=df_prices[7].pivot('ticker','date','adj_close') #Genera la tabla pivote \n",
    "p_prices8=p_prices8.fillna(method='ffill',axis=1) #Se rellenan los NaN con el dato anterior disponible"
   ]
  },
  {
   "cell_type": "code",
   "execution_count": 109,
   "metadata": {},
   "outputs": [],
   "source": [
    "all_data8=p_prices8.join(acc_clean[7])"
   ]
  },
  {
   "cell_type": "code",
   "execution_count": 110,
   "metadata": {},
   "outputs": [],
   "source": [
    "precios8=all_data8.iloc[:,0:-1].transpose()\n",
    "cantidades8=all_data8['Acciones']"
   ]
  },
  {
   "cell_type": "code",
   "execution_count": 111,
   "metadata": {},
   "outputs": [],
   "source": [
    "totales8=np.dot(precios8,cantidades8)\n",
    "totales8=pd.DataFrame(totales8, index= fechas2[(fechas2 >= df_fechas[7]) & (fechas2 <= df_fechas[12])] )"
   ]
  },
  {
   "cell_type": "code",
   "execution_count": 112,
   "metadata": {},
   "outputs": [],
   "source": [
    "navs_diarios8=totales8/nassets[7]"
   ]
  },
  {
   "cell_type": "code",
   "execution_count": 113,
   "metadata": {},
   "outputs": [],
   "source": [
    "rendimiento_final8=navs_diarios8.iloc[-1]/navs_diarios8.iloc[0]-1\n",
    "navs_diarios8=pd.DataFrame(navs_diarios8)\n",
    "rends_diarios8=((navs_diarios8-navs_diarios8.shift(1))/navs_diarios8.shift(1)).iloc[1:]\n",
    "desv_diaria8=np.std(rends_diarios8)"
   ]
  },
  {
   "cell_type": "code",
   "execution_count": 114,
   "metadata": {},
   "outputs": [],
   "source": [
    "rends8=[]\n",
    "for i in range(len(df_fechas)-8):\n",
    "    rend8=rendd=navs_diarios8.transpose()[df_fechas[i+8]]/navs_diarios8.transpose()[df_fechas[i+7]]-1\n",
    "    rends8.append(rend8)\n",
    "rends8=pd.DataFrame(rends8,index = df_fechas[8:])"
   ]
  },
  {
   "cell_type": "code",
   "execution_count": 115,
   "metadata": {},
   "outputs": [],
   "source": [
    "g= rend7.loc[[(df_fechas[1] ),(df_fechas[2]),(df_fechas[3]),(df_fechas[4]),(df_fechas[5]),(df_fechas[6]),(df_fechas[7])]]\n",
    "rend8= g.append(rends8)"
   ]
  },
  {
   "cell_type": "code",
   "execution_count": 116,
   "metadata": {},
   "outputs": [],
   "source": [
    "navs_diariosb=pd.DataFrame(navs_diarios7, index= fechas2[(fechas2 < df_fechas[7])] )\n",
    "navs_diarios8=navs_diariosb.append(navs_diarios8)\n",
    "rends_diarios8=((navs_diarios8-navs_diarios8.shift(1))/navs_diarios8.shift(1)).iloc[1:]\n",
    "desv_diaria8=np.std(rends_diarios8)"
   ]
  },
  {
   "cell_type": "code",
   "execution_count": 117,
   "metadata": {},
   "outputs": [],
   "source": [
    "sharpe8=(rend8-.02)/desv_diaria8"
   ]
  },
  {
   "cell_type": "code",
   "execution_count": null,
   "metadata": {},
   "outputs": [],
   "source": []
  },
  {
   "cell_type": "code",
   "execution_count": null,
   "metadata": {},
   "outputs": [],
   "source": []
  },
  {
   "cell_type": "code",
   "execution_count": null,
   "metadata": {},
   "outputs": [],
   "source": []
  },
  {
   "cell_type": "code",
   "execution_count": null,
   "metadata": {},
   "outputs": [],
   "source": []
  }
 ],
 "metadata": {
  "kernelspec": {
   "display_name": "Python 3",
   "language": "python",
   "name": "python3"
  },
  "language_info": {
   "codemirror_mode": {
    "name": "ipython",
    "version": 3
   },
   "file_extension": ".py",
   "mimetype": "text/x-python",
   "name": "python",
   "nbconvert_exporter": "python",
   "pygments_lexer": "ipython3",
   "version": "3.6.5"
  }
 },
 "nbformat": 4,
 "nbformat_minor": 2
}
