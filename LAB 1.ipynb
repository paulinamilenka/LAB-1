{
 "cells": [
  {
   "cell_type": "markdown",
   "metadata": {},
   "source": [
    "# Microestructuras y sistemas de Trading\n",
    "## Laboratorio 1"
   ]
  },
  {
   "cell_type": "markdown",
   "metadata": {},
   "source": [
    "## Equipo C\n",
    "### Participantes:\n",
    ">Paulina Milenka Glez Manrique, Andres García Ruvalcaba, Mariana López Correa,Juan López Pelayo."
   ]
  },
  {
   "cell_type": "code",
   "execution_count": 1,
   "metadata": {},
   "outputs": [],
   "source": [
    "import quandl \n",
    "import pandas as pd\n",
    "import os\n",
    "import calendar\n",
    "import numpy as np"
   ]
  },
  {
   "cell_type": "code",
   "execution_count": 2,
   "metadata": {},
   "outputs": [],
   "source": [
    "quandl.ApiConfig.api_key = \"6ARMqMT_1jbzJ71XyRCx\""
   ]
  },
  {
   "cell_type": "code",
   "execution_count": 3,
   "metadata": {},
   "outputs": [],
   "source": [
    "path=os.getcwd()\n",
    "files=os.listdir(path)\n",
    "etf_files = [f for f in files if f[-3:]=='csv']"
   ]
  },
  {
   "cell_type": "code",
   "execution_count": 4,
   "metadata": {},
   "outputs": [],
   "source": [
    "df=[]\n",
    "for f in etf_files: \n",
    "    data=pd.read_csv(f, header=0, sep=',', index_col=0, parse_dates=False, skip_blank_lines=True, skiprows=10)\n",
    "\n",
    "    df.append(data)"
   ]
  },
  {
   "cell_type": "code",
   "execution_count": 5,
   "metadata": {},
   "outputs": [],
   "source": [
    "df_nassets = []\n",
    "for f in etf_files:\n",
    "    data=pd.read_csv(f,nrows=4)\n",
    "    data=data.iloc[3,0]\n",
    "    df_nassets.append(data)"
   ]
  },
  {
   "cell_type": "code",
   "execution_count": 40,
   "metadata": {},
   "outputs": [],
   "source": [
    "nassets = []\n",
    "for i in range(len(df_nassets)):\n",
    "    a=df_nassets[i]\n",
    "    a=a.replace('.00','').replace(',','')\n",
    "    a=int(a)\n",
    "    nassets.append(a)"
   ]
  },
  {
   "cell_type": "code",
   "execution_count": 6,
   "metadata": {},
   "outputs": [],
   "source": [
    "df_fechas=[]\n",
    "for f in etf_files:\n",
    "    data=pd.read_csv(f,nrows=4)\n",
    "    data=data.iloc[1,0]\n",
    "    df_fechas.append(data)"
   ]
  },
  {
   "cell_type": "code",
   "execution_count": 7,
   "metadata": {},
   "outputs": [],
   "source": [
    "dic = {'abr':'04','ago':'08','dic':'12','feb':'02','ene':'01','jun':'06','jul':'07','mar':'03','may':'05','nov':'11','oct':'10','sep':'09'}\n",
    "lenfechas=len(df_fechas)\n",
    "for i in range(lenfechas):\n",
    "    df_fechas[i]=df_fechas[i].replace(df_fechas[i][3:6],dic.get(df_fechas[i][3:6]))"
   ]
  },
  {
   "cell_type": "code",
   "execution_count": 8,
   "metadata": {},
   "outputs": [
    {
     "data": {
      "text/plain": [
       "['2017-02-28',\n",
       " '2017-03-31',\n",
       " '2017-04-28',\n",
       " '2017-05-31',\n",
       " '2017-06-30',\n",
       " '2017-07-31',\n",
       " '2017-08-31',\n",
       " '2017-09-29',\n",
       " '2017-10-31',\n",
       " '2017-11-30',\n",
       " '2017-12-29',\n",
       " '2018-01-31']"
      ]
     },
     "execution_count": 8,
     "metadata": {},
     "output_type": "execute_result"
    }
   ],
   "source": [
    "l=len(df_fechas)\n",
    "for i in range(l):\n",
    "    df_fechas[i]=df_fechas[i][-4:]+df_fechas[i][2:6]+df_fechas[i][0:2]\n",
    "df_fechas"
   ]
  },
  {
   "cell_type": "code",
   "execution_count": 9,
   "metadata": {},
   "outputs": [
    {
     "data": {
      "text/html": [
       "<div>\n",
       "<style scoped>\n",
       "    .dataframe tbody tr th:only-of-type {\n",
       "        vertical-align: middle;\n",
       "    }\n",
       "\n",
       "    .dataframe tbody tr th {\n",
       "        vertical-align: top;\n",
       "    }\n",
       "\n",
       "    .dataframe thead th {\n",
       "        text-align: right;\n",
       "    }\n",
       "</style>\n",
       "<table border=\"1\" class=\"dataframe\">\n",
       "  <thead>\n",
       "    <tr style=\"text-align: right;\">\n",
       "      <th></th>\n",
       "      <th>ticker</th>\n",
       "      <th>date</th>\n",
       "      <th>adj_close</th>\n",
       "    </tr>\n",
       "    <tr>\n",
       "      <th>None</th>\n",
       "      <th></th>\n",
       "      <th></th>\n",
       "      <th></th>\n",
       "    </tr>\n",
       "  </thead>\n",
       "  <tbody>\n",
       "    <tr>\n",
       "      <th>0</th>\n",
       "      <td>ZTS</td>\n",
       "      <td>2018-01-31</td>\n",
       "      <td>76.73</td>\n",
       "    </tr>\n",
       "    <tr>\n",
       "      <th>1</th>\n",
       "      <td>ZTS</td>\n",
       "      <td>2018-01-30</td>\n",
       "      <td>78.35</td>\n",
       "    </tr>\n",
       "    <tr>\n",
       "      <th>2</th>\n",
       "      <td>ZTS</td>\n",
       "      <td>2018-01-29</td>\n",
       "      <td>79.18</td>\n",
       "    </tr>\n",
       "    <tr>\n",
       "      <th>3</th>\n",
       "      <td>ZTS</td>\n",
       "      <td>2018-01-26</td>\n",
       "      <td>80.09</td>\n",
       "    </tr>\n",
       "    <tr>\n",
       "      <th>4</th>\n",
       "      <td>ZTS</td>\n",
       "      <td>2018-01-25</td>\n",
       "      <td>79.25</td>\n",
       "    </tr>\n",
       "  </tbody>\n",
       "</table>\n",
       "</div>"
      ],
      "text/plain": [
       "     ticker       date  adj_close\n",
       "None                             \n",
       "0       ZTS 2018-01-31      76.73\n",
       "1       ZTS 2018-01-30      78.35\n",
       "2       ZTS 2018-01-29      79.18\n",
       "3       ZTS 2018-01-26      80.09\n",
       "4       ZTS 2018-01-25      79.25"
      ]
     },
     "execution_count": 9,
     "metadata": {},
     "output_type": "execute_result"
    }
   ],
   "source": [
    "M1= df[0]\n",
    "tickers = M1.index.get_values()\n",
    "tickers = tickers.tolist()\n",
    "prices = quandl.get_table('WIKI/PRICES',ticker = tickers,  qopts = { 'columns': ['ticker', 'date', 'adj_close'] }, \n",
    "                       date = { 'gte': df_fechas[0], 'lte': df_fechas[-1] }, \n",
    "                       paginate=True)\n",
    "prices.head()"
   ]
  },
  {
   "cell_type": "code",
   "execution_count": 17,
   "metadata": {},
   "outputs": [],
   "source": [
    "p_prices=prices.pivot('ticker','date','adj_close')\n",
    "#p_prices=p_prices.fillna(p_prices.mean(axis=1))\n",
    "p_prices=p_prices.fillna(method='ffill',axis=1)"
   ]
  },
  {
   "cell_type": "code",
   "execution_count": 18,
   "metadata": {},
   "outputs": [
    {
     "data": {
      "text/plain": [
       "Ticker\n",
       "A         308,935.00\n",
       "AAP       107,750.00\n",
       "AAPL    7,770,569.00\n",
       "ABBV    2,368,365.00\n",
       "ACN       904,323.00\n",
       "Name: Acciones, dtype: object"
      ]
     },
     "execution_count": 18,
     "metadata": {},
     "output_type": "execute_result"
    }
   ],
   "source": [
    "q_acc=[]\n",
    "l=len(df)\n",
    "for i in range(l):\n",
    "    data=df[i]['Acciones'].dropna()\n",
    "    data=data.sort_index(ascending=True)\n",
    "    q_acc.append(data)\n",
    "q_acc[0].head()"
   ]
  },
  {
   "cell_type": "code",
   "execution_count": 33,
   "metadata": {},
   "outputs": [],
   "source": [
    "acciones=[]\n",
    "l=len(q_acc)\n",
    "for j in range(l):\n",
    "    lista=pd.DataFrame()\n",
    "    l=len(q_acc[j])\n",
    "    for i in range(l):\n",
    "        data=q_acc[j].to_frame()\n",
    "        data=data.iloc[i].replace(',','')\n",
    "        lista=lista.append(data)\n",
    "    acciones.append(lista)\n"
   ]
  },
  {
   "cell_type": "code",
   "execution_count": 34,
   "metadata": {},
   "outputs": [],
   "source": [
    "l=len(acciones)\n",
    "acc_clean = []\n",
    "for i in range(l):\n",
    "    a=acciones[i]\n",
    "    a=a['Acciones'].str.replace('.00','').str.replace(',','').astype(int)\n",
    "    acc_clean.append(a)\n"
   ]
  },
  {
   "cell_type": "code",
   "execution_count": 35,
   "metadata": {},
   "outputs": [],
   "source": [
    "all_data = p_prices.join(acc_clean[0])\n"
   ]
  },
  {
   "cell_type": "code",
   "execution_count": 36,
   "metadata": {},
   "outputs": [],
   "source": [
    "fechas=all_data.columns.get_values()\n",
    "fechas=fechas[0:-1]"
   ]
  },
  {
   "cell_type": "code",
   "execution_count": 37,
   "metadata": {},
   "outputs": [],
   "source": [
    "precios=all_data.iloc[:,0:-1].transpose()\n",
    "cantidades=all_data['Acciones']"
   ]
  },
  {
   "cell_type": "code",
   "execution_count": 45,
   "metadata": {},
   "outputs": [],
   "source": [
    "totales=np.dot(precios,cantidades)\n",
    "totales=pd.DataFrame(totales,index=fechas)"
   ]
  },
  {
   "cell_type": "code",
   "execution_count": 46,
   "metadata": {},
   "outputs": [],
   "source": [
    "navs_diarios=totales/nassets[0]"
   ]
  },
  {
   "cell_type": "code",
   "execution_count": 42,
   "metadata": {},
   "outputs": [],
   "source": [
    "rendimiento_final=navs_diarios.iloc[-1]/navs_diarios.iloc[0]-1"
   ]
  },
  {
   "cell_type": "code",
   "execution_count": 43,
   "metadata": {},
   "outputs": [],
   "source": [
    "navs_diarios=pd.DataFrame(navs_diarios)"
   ]
  },
  {
   "cell_type": "code",
   "execution_count": 44,
   "metadata": {},
   "outputs": [],
   "source": [
    "rends_diarios=((navs_diarios-navs_diarios.shift(1))/navs_diarios.shift(1)).iloc[1:]"
   ]
  },
  {
   "cell_type": "raw",
   "metadata": {},
   "source": []
  },
  {
   "cell_type": "code",
   "execution_count": null,
   "metadata": {},
   "outputs": [],
   "source": []
  }
 ],
 "metadata": {
  "kernelspec": {
   "display_name": "Python 3",
   "language": "python",
   "name": "python3"
  },
  "language_info": {
   "codemirror_mode": {
    "name": "ipython",
    "version": 3
   },
   "file_extension": ".py",
   "mimetype": "text/x-python",
   "name": "python",
   "nbconvert_exporter": "python",
   "pygments_lexer": "ipython3",
   "version": "3.6.5"
  }
 },
 "nbformat": 4,
 "nbformat_minor": 2
}
