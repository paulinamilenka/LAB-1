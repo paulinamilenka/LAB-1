{
 "cells": [
  {
   "cell_type": "markdown",
   "metadata": {},
   "source": [
    "# Microestructuras y sistemas de Trading\n",
    "## Laboratorio 1"
   ]
  },
  {
   "cell_type": "markdown",
   "metadata": {},
   "source": [
    "## Equipo C\n",
    "### Participantes:\n",
    ">Paulina Milenka Glez Manrique, Andres García Ruvalcaba, Mariana López Correa,Juan López Pelayo."
   ]
  },
  {
   "cell_type": "code",
   "execution_count": 1,
   "metadata": {
    "collapsed": true
   },
   "outputs": [],
   "source": [
    "import quandl \n",
    "import pandas as pd"
   ]
  },
  {
   "cell_type": "code",
   "execution_count": 2,
   "metadata": {
    "collapsed": true
   },
   "outputs": [],
   "source": [
    "quandl.ApiConfig.api_key = \"6ARMqMT_1jbzJ71XyRCx\""
   ]
  },
  {
   "cell_type": "code",
   "execution_count": 16,
   "metadata": {},
   "outputs": [
    {
     "data": {
      "text/html": [
       "<div>\n",
       "<style>\n",
       "    .dataframe thead tr:only-child th {\n",
       "        text-align: right;\n",
       "    }\n",
       "\n",
       "    .dataframe thead th {\n",
       "        text-align: left;\n",
       "    }\n",
       "\n",
       "    .dataframe tbody tr th {\n",
       "        vertical-align: top;\n",
       "    }\n",
       "</style>\n",
       "<table border=\"1\" class=\"dataframe\">\n",
       "  <thead>\n",
       "    <tr style=\"text-align: right;\">\n",
       "      <th></th>\n",
       "      <th>Ticker</th>\n",
       "      <th>Nombre</th>\n",
       "      <th>Clase de activo</th>\n",
       "      <th>Peso (%)</th>\n",
       "      <th>Precio</th>\n",
       "      <th>Acciones</th>\n",
       "      <th>Valor de mercado</th>\n",
       "      <th>Valor nominal</th>\n",
       "      <th>Sector</th>\n",
       "      <th>SEDOL</th>\n",
       "      <th>ISIN</th>\n",
       "      <th>Intercambio</th>\n",
       "    </tr>\n",
       "  </thead>\n",
       "  <tbody>\n",
       "    <tr>\n",
       "      <th>0</th>\n",
       "      <td>MSFT</td>\n",
       "      <td>MICROSOFT CORP</td>\n",
       "      <td>Equity</td>\n",
       "      <td>8.00530</td>\n",
       "      <td>135.74</td>\n",
       "      <td>13603103</td>\n",
       "      <td>1.846485e+09</td>\n",
       "      <td>1.846485e+09</td>\n",
       "      <td>Tecnología de la Información</td>\n",
       "      <td>2588173</td>\n",
       "      <td>US5949181045</td>\n",
       "      <td>NASDAQ</td>\n",
       "    </tr>\n",
       "    <tr>\n",
       "      <th>1</th>\n",
       "      <td>AMZN</td>\n",
       "      <td>AMAZON COM INC</td>\n",
       "      <td>Equity</td>\n",
       "      <td>5.60768</td>\n",
       "      <td>1761.83</td>\n",
       "      <td>734155</td>\n",
       "      <td>1.293456e+09</td>\n",
       "      <td>1.293456e+09</td>\n",
       "      <td>Consumo discrecional</td>\n",
       "      <td>2000019</td>\n",
       "      <td>US0231351067</td>\n",
       "      <td>NASDAQ</td>\n",
       "    </tr>\n",
       "    <tr>\n",
       "      <th>2</th>\n",
       "      <td>FB</td>\n",
       "      <td>FACEBOOK CLASS A INC</td>\n",
       "      <td>Equity</td>\n",
       "      <td>3.35236</td>\n",
       "      <td>181.30</td>\n",
       "      <td>4265020</td>\n",
       "      <td>7.732481e+08</td>\n",
       "      <td>7.732481e+08</td>\n",
       "      <td>Comunicación</td>\n",
       "      <td>B7TL820</td>\n",
       "      <td>US30303M1027</td>\n",
       "      <td>NASDAQ</td>\n",
       "    </tr>\n",
       "    <tr>\n",
       "      <th>3</th>\n",
       "      <td>GOOG</td>\n",
       "      <td>ALPHABET INC CLASS C</td>\n",
       "      <td>Equity</td>\n",
       "      <td>2.75459</td>\n",
       "      <td>1167.84</td>\n",
       "      <td>544054</td>\n",
       "      <td>6.353680e+08</td>\n",
       "      <td>6.353680e+08</td>\n",
       "      <td>Comunicación</td>\n",
       "      <td>BYY88Y7</td>\n",
       "      <td>US02079K1079</td>\n",
       "      <td>NASDAQ</td>\n",
       "    </tr>\n",
       "    <tr>\n",
       "      <th>4</th>\n",
       "      <td>GOOGL</td>\n",
       "      <td>ALPHABET INC CLASS A</td>\n",
       "      <td>Equity</td>\n",
       "      <td>2.69820</td>\n",
       "      <td>1170.82</td>\n",
       "      <td>531560</td>\n",
       "      <td>6.223611e+08</td>\n",
       "      <td>6.223611e+08</td>\n",
       "      <td>Comunicación</td>\n",
       "      <td>BYVY8G0</td>\n",
       "      <td>US02079K3059</td>\n",
       "      <td>NASDAQ</td>\n",
       "    </tr>\n",
       "  </tbody>\n",
       "</table>\n",
       "</div>"
      ],
      "text/plain": [
       "  Ticker                Nombre Clase de activo  Peso (%)   Precio  Acciones  \\\n",
       "0   MSFT        MICROSOFT CORP          Equity   8.00530   135.74  13603103   \n",
       "1   AMZN        AMAZON COM INC          Equity   5.60768  1761.83    734155   \n",
       "2     FB  FACEBOOK CLASS A INC          Equity   3.35236   181.30   4265020   \n",
       "3   GOOG  ALPHABET INC CLASS C          Equity   2.75459  1167.84    544054   \n",
       "4  GOOGL  ALPHABET INC CLASS A          Equity   2.69820  1170.82    531560   \n",
       "\n",
       "   Valor de mercado  Valor nominal                        Sector    SEDOL  \\\n",
       "0      1.846485e+09   1.846485e+09  Tecnología de la Información  2588173   \n",
       "1      1.293456e+09   1.293456e+09          Consumo discrecional  2000019   \n",
       "2      7.732481e+08   7.732481e+08                  Comunicación  B7TL820   \n",
       "3      6.353680e+08   6.353680e+08                  Comunicación  BYY88Y7   \n",
       "4      6.223611e+08   6.223611e+08                  Comunicación  BYVY8G0   \n",
       "\n",
       "           ISIN Intercambio  \n",
       "0  US5949181045      NASDAQ  \n",
       "1  US0231351067      NASDAQ  \n",
       "2  US30303M1027      NASDAQ  \n",
       "3  US02079K1079      NASDAQ  \n",
       "4  US02079K3059      NASDAQ  "
      ]
     },
     "execution_count": 16,
     "metadata": {},
     "output_type": "execute_result"
    }
   ],
   "source": [
    "excel_etf = 'IVW.xlsx'\n",
    "data = pd.read_excel(excel_etf, sheet_name=0, header=0, sep=',', index_col=None, parse_dates=False, skip_blank_lines=True)\n",
    "data.head()"
   ]
  },
  {
   "cell_type": "code",
   "execution_count": null,
   "metadata": {
    "collapsed": true
   },
   "outputs": [],
   "source": []
  }
 ],
 "metadata": {
  "kernelspec": {
   "display_name": "Python 3",
   "language": "python",
   "name": "python3"
  },
  "language_info": {
   "codemirror_mode": {
    "name": "ipython",
    "version": 3
   },
   "file_extension": ".py",
   "mimetype": "text/x-python",
   "name": "python",
   "nbconvert_exporter": "python",
   "pygments_lexer": "ipython3",
   "version": "3.6.3"
  }
 },
 "nbformat": 4,
 "nbformat_minor": 2
}
